{
 "cells": [
  {
   "cell_type": "code",
   "execution_count": 1,
   "id": "652ec946",
   "metadata": {},
   "outputs": [],
   "source": [
    "import pandas as pd\n",
    "import numpy as np"
   ]
  },
  {
   "cell_type": "code",
   "execution_count": 2,
   "id": "f9372e31",
   "metadata": {},
   "outputs": [],
   "source": [
    "data = pd.read_csv(\"suv_data.csv\")"
   ]
  },
  {
   "cell_type": "code",
   "execution_count": 3,
   "id": "83f431de",
   "metadata": {},
   "outputs": [
    {
     "data": {
      "text/html": [
       "<div>\n",
       "<style scoped>\n",
       "    .dataframe tbody tr th:only-of-type {\n",
       "        vertical-align: middle;\n",
       "    }\n",
       "\n",
       "    .dataframe tbody tr th {\n",
       "        vertical-align: top;\n",
       "    }\n",
       "\n",
       "    .dataframe thead th {\n",
       "        text-align: right;\n",
       "    }\n",
       "</style>\n",
       "<table border=\"1\" class=\"dataframe\">\n",
       "  <thead>\n",
       "    <tr style=\"text-align: right;\">\n",
       "      <th></th>\n",
       "      <th>User ID</th>\n",
       "      <th>Gender</th>\n",
       "      <th>Age</th>\n",
       "      <th>EstimatedSalary</th>\n",
       "      <th>Purchased</th>\n",
       "    </tr>\n",
       "  </thead>\n",
       "  <tbody>\n",
       "    <tr>\n",
       "      <th>0</th>\n",
       "      <td>15624510</td>\n",
       "      <td>Male</td>\n",
       "      <td>19</td>\n",
       "      <td>19000</td>\n",
       "      <td>0</td>\n",
       "    </tr>\n",
       "    <tr>\n",
       "      <th>1</th>\n",
       "      <td>15810944</td>\n",
       "      <td>Male</td>\n",
       "      <td>35</td>\n",
       "      <td>20000</td>\n",
       "      <td>0</td>\n",
       "    </tr>\n",
       "    <tr>\n",
       "      <th>2</th>\n",
       "      <td>15668575</td>\n",
       "      <td>Female</td>\n",
       "      <td>26</td>\n",
       "      <td>43000</td>\n",
       "      <td>0</td>\n",
       "    </tr>\n",
       "    <tr>\n",
       "      <th>3</th>\n",
       "      <td>15603246</td>\n",
       "      <td>Female</td>\n",
       "      <td>27</td>\n",
       "      <td>57000</td>\n",
       "      <td>0</td>\n",
       "    </tr>\n",
       "    <tr>\n",
       "      <th>4</th>\n",
       "      <td>15804002</td>\n",
       "      <td>Male</td>\n",
       "      <td>19</td>\n",
       "      <td>76000</td>\n",
       "      <td>0</td>\n",
       "    </tr>\n",
       "  </tbody>\n",
       "</table>\n",
       "</div>"
      ],
      "text/plain": [
       "    User ID  Gender  Age  EstimatedSalary  Purchased\n",
       "0  15624510    Male   19            19000          0\n",
       "1  15810944    Male   35            20000          0\n",
       "2  15668575  Female   26            43000          0\n",
       "3  15603246  Female   27            57000          0\n",
       "4  15804002    Male   19            76000          0"
      ]
     },
     "execution_count": 3,
     "metadata": {},
     "output_type": "execute_result"
    }
   ],
   "source": [
    "data.head()"
   ]
  },
  {
   "cell_type": "code",
   "execution_count": 4,
   "id": "6b97d06e",
   "metadata": {},
   "outputs": [],
   "source": [
    "data = data.drop('User ID',1)\n",
    "gender = pd.get_dummies(columns= ['Gender'], data = data, drop_first = True)"
   ]
  },
  {
   "cell_type": "code",
   "execution_count": 5,
   "id": "e4a31027",
   "metadata": {},
   "outputs": [
    {
     "data": {
      "text/html": [
       "<div>\n",
       "<style scoped>\n",
       "    .dataframe tbody tr th:only-of-type {\n",
       "        vertical-align: middle;\n",
       "    }\n",
       "\n",
       "    .dataframe tbody tr th {\n",
       "        vertical-align: top;\n",
       "    }\n",
       "\n",
       "    .dataframe thead th {\n",
       "        text-align: right;\n",
       "    }\n",
       "</style>\n",
       "<table border=\"1\" class=\"dataframe\">\n",
       "  <thead>\n",
       "    <tr style=\"text-align: right;\">\n",
       "      <th></th>\n",
       "      <th>Age</th>\n",
       "      <th>EstimatedSalary</th>\n",
       "      <th>Purchased</th>\n",
       "      <th>Gender_Male</th>\n",
       "    </tr>\n",
       "  </thead>\n",
       "  <tbody>\n",
       "    <tr>\n",
       "      <th>0</th>\n",
       "      <td>19</td>\n",
       "      <td>19000</td>\n",
       "      <td>0</td>\n",
       "      <td>1</td>\n",
       "    </tr>\n",
       "    <tr>\n",
       "      <th>1</th>\n",
       "      <td>35</td>\n",
       "      <td>20000</td>\n",
       "      <td>0</td>\n",
       "      <td>1</td>\n",
       "    </tr>\n",
       "    <tr>\n",
       "      <th>2</th>\n",
       "      <td>26</td>\n",
       "      <td>43000</td>\n",
       "      <td>0</td>\n",
       "      <td>0</td>\n",
       "    </tr>\n",
       "    <tr>\n",
       "      <th>3</th>\n",
       "      <td>27</td>\n",
       "      <td>57000</td>\n",
       "      <td>0</td>\n",
       "      <td>0</td>\n",
       "    </tr>\n",
       "    <tr>\n",
       "      <th>4</th>\n",
       "      <td>19</td>\n",
       "      <td>76000</td>\n",
       "      <td>0</td>\n",
       "      <td>1</td>\n",
       "    </tr>\n",
       "  </tbody>\n",
       "</table>\n",
       "</div>"
      ],
      "text/plain": [
       "   Age  EstimatedSalary  Purchased  Gender_Male\n",
       "0   19            19000          0            1\n",
       "1   35            20000          0            1\n",
       "2   26            43000          0            0\n",
       "3   27            57000          0            0\n",
       "4   19            76000          0            1"
      ]
     },
     "execution_count": 5,
     "metadata": {},
     "output_type": "execute_result"
    }
   ],
   "source": [
    "gender.head()"
   ]
  },
  {
   "cell_type": "code",
   "execution_count": 6,
   "id": "8862e9dc",
   "metadata": {},
   "outputs": [
    {
     "data": {
      "text/plain": [
       "Gender             0\n",
       "Age                0\n",
       "EstimatedSalary    0\n",
       "Purchased          0\n",
       "dtype: int64"
      ]
     },
     "execution_count": 6,
     "metadata": {},
     "output_type": "execute_result"
    }
   ],
   "source": [
    "data.isna().sum()"
   ]
  },
  {
   "cell_type": "code",
   "execution_count": 7,
   "id": "6726c725",
   "metadata": {},
   "outputs": [
    {
     "data": {
      "text/plain": [
       "array([[-1.78179743, -1.49004624,  1.02020406],\n",
       "       [-0.25358736, -1.46068138,  1.02020406],\n",
       "       [-1.11320552, -0.78528968, -0.98019606],\n",
       "       ...,\n",
       "       [ 1.17910958, -1.46068138, -0.98019606],\n",
       "       [-0.15807423, -1.07893824,  1.02020406],\n",
       "       [ 1.08359645, -0.99084367, -0.98019606]])"
      ]
     },
     "execution_count": 7,
     "metadata": {},
     "output_type": "execute_result"
    }
   ],
   "source": [
    "from sklearn.preprocessing import StandardScaler\n",
    "scale = StandardScaler()\n",
    "X = gender.drop('Purchased',1)\n",
    "y = gender.Purchased\n",
    "X = scale.fit_transform(X)\n",
    "X"
   ]
  },
  {
   "cell_type": "code",
   "execution_count": 8,
   "id": "29cfbe4a",
   "metadata": {},
   "outputs": [],
   "source": [
    "from sklearn.model_selection import cross_val_score\n",
    "from sklearn.linear_model import LogisticRegression\n",
    "from sklearn.tree import DecisionTreeClassifier\n",
    "from sklearn.ensemble import RandomForestClassifier\n",
    "from sklearn.svm import SVC\n",
    "from sklearn.neighbors import KNeighborsClassifier"
   ]
  },
  {
   "cell_type": "code",
   "execution_count": 9,
   "id": "61994682",
   "metadata": {},
   "outputs": [
    {
     "data": {
      "text/plain": [
       "array([0.7   , 0.95  , 0.9375, 0.8125, 0.7   ])"
      ]
     },
     "execution_count": 9,
     "metadata": {},
     "output_type": "execute_result"
    }
   ],
   "source": [
    "cross_val_score(LogisticRegression(), X,y)"
   ]
  },
  {
   "cell_type": "code",
   "execution_count": 10,
   "id": "5f7aec58",
   "metadata": {},
   "outputs": [
    {
     "name": "stdout",
     "output_type": "stream",
     "text": [
      "Logistic AVerage Score =  0.82\n"
     ]
    }
   ],
   "source": [
    "print('Logistic AVerage Score = ', np.mean(cross_val_score(LogisticRegression(), X,y)))"
   ]
  },
  {
   "cell_type": "code",
   "execution_count": 11,
   "id": "f84af39b",
   "metadata": {},
   "outputs": [
    {
     "data": {
      "text/plain": [
       "array([0.6875, 0.9625, 0.9   , 0.775 , 0.7125])"
      ]
     },
     "execution_count": 11,
     "metadata": {},
     "output_type": "execute_result"
    }
   ],
   "source": [
    "cross_val_score(SVC(kernel = 'linear', C = 1), X,y)"
   ]
  },
  {
   "cell_type": "code",
   "execution_count": 12,
   "id": "92e97a53",
   "metadata": {},
   "outputs": [
    {
     "name": "stdout",
     "output_type": "stream",
     "text": [
      "SVC AVerage Score =  0.8074999999999999\n"
     ]
    }
   ],
   "source": [
    "print('SVC AVerage Score = ', np.mean(cross_val_score(SVC(kernel = 'linear', C = 1), X,y)))"
   ]
  },
  {
   "cell_type": "code",
   "execution_count": 13,
   "id": "09f9a0df",
   "metadata": {},
   "outputs": [
    {
     "name": "stdout",
     "output_type": "stream",
     "text": [
      "[0.8    0.925  0.875  0.8375 0.8   ]\n",
      "Random forest Average Score = 0.8474999999999999\n"
     ]
    }
   ],
   "source": [
    "r = cross_val_score(RandomForestClassifier(), X,y)\n",
    "print(r)\n",
    "print('Random forest Average Score =', np.mean(r))"
   ]
  },
  {
   "cell_type": "code",
   "execution_count": 14,
   "id": "b7958c56",
   "metadata": {},
   "outputs": [
    {
     "name": "stdout",
     "output_type": "stream",
     "text": [
      "[0.9125 0.9125 0.8875 0.8    0.8125]\n",
      "KNN  Average Score = 0.865\n"
     ]
    }
   ],
   "source": [
    "k = cross_val_score(KNeighborsClassifier(n_neighbors = 3), X,y)\n",
    "print(k)\n",
    "print('KNN  Average Score =', np.mean(k))"
   ]
  },
  {
   "cell_type": "code",
   "execution_count": 15,
   "id": "83570b88",
   "metadata": {},
   "outputs": [
    {
     "name": "stdout",
     "output_type": "stream",
     "text": [
      "[0.75   0.9    0.825  0.775  0.7875]\n",
      "Decision Tree Average Score = 0.8074999999999999\n"
     ]
    }
   ],
   "source": [
    "d = cross_val_score(DecisionTreeClassifier(), X,y)\n",
    "print(d)\n",
    "print('Decision Tree Average Score =', np.mean(d))"
   ]
  },
  {
   "cell_type": "code",
   "execution_count": 16,
   "id": "fc145faa",
   "metadata": {},
   "outputs": [],
   "source": [
    "from sklearn.model_selection import GridSearchCV"
   ]
  },
  {
   "cell_type": "markdown",
   "id": "03cdbd3d",
   "metadata": {},
   "source": [
    "# using GridSearchCv"
   ]
  },
  {
   "cell_type": "code",
   "execution_count": 17,
   "id": "3c3208b3",
   "metadata": {},
   "outputs": [
    {
     "data": {
      "text/html": [
       "<div>\n",
       "<style scoped>\n",
       "    .dataframe tbody tr th:only-of-type {\n",
       "        vertical-align: middle;\n",
       "    }\n",
       "\n",
       "    .dataframe tbody tr th {\n",
       "        vertical-align: top;\n",
       "    }\n",
       "\n",
       "    .dataframe thead th {\n",
       "        text-align: right;\n",
       "    }\n",
       "</style>\n",
       "<table border=\"1\" class=\"dataframe\">\n",
       "  <thead>\n",
       "    <tr style=\"text-align: right;\">\n",
       "      <th></th>\n",
       "      <th>mean_fit_time</th>\n",
       "      <th>std_fit_time</th>\n",
       "      <th>mean_score_time</th>\n",
       "      <th>std_score_time</th>\n",
       "      <th>param_C</th>\n",
       "      <th>param_kernel</th>\n",
       "      <th>params</th>\n",
       "      <th>split0_test_score</th>\n",
       "      <th>split1_test_score</th>\n",
       "      <th>split2_test_score</th>\n",
       "      <th>split3_test_score</th>\n",
       "      <th>split4_test_score</th>\n",
       "      <th>mean_test_score</th>\n",
       "      <th>std_test_score</th>\n",
       "      <th>rank_test_score</th>\n",
       "    </tr>\n",
       "  </thead>\n",
       "  <tbody>\n",
       "    <tr>\n",
       "      <th>0</th>\n",
       "      <td>0.003801</td>\n",
       "      <td>0.000749</td>\n",
       "      <td>0.002001</td>\n",
       "      <td>6.332397e-04</td>\n",
       "      <td>1</td>\n",
       "      <td>rbf</td>\n",
       "      <td>{'C': 1, 'kernel': 'rbf'}</td>\n",
       "      <td>0.9125</td>\n",
       "      <td>0.9375</td>\n",
       "      <td>0.9125</td>\n",
       "      <td>0.8125</td>\n",
       "      <td>0.9250</td>\n",
       "      <td>0.9000</td>\n",
       "      <td>0.044721</td>\n",
       "      <td>1</td>\n",
       "    </tr>\n",
       "    <tr>\n",
       "      <th>1</th>\n",
       "      <td>0.003401</td>\n",
       "      <td>0.000490</td>\n",
       "      <td>0.000800</td>\n",
       "      <td>4.000905e-04</td>\n",
       "      <td>1</td>\n",
       "      <td>linear</td>\n",
       "      <td>{'C': 1, 'kernel': 'linear'}</td>\n",
       "      <td>0.6875</td>\n",
       "      <td>0.9625</td>\n",
       "      <td>0.9000</td>\n",
       "      <td>0.7750</td>\n",
       "      <td>0.7125</td>\n",
       "      <td>0.8075</td>\n",
       "      <td>0.106829</td>\n",
       "      <td>4</td>\n",
       "    </tr>\n",
       "    <tr>\n",
       "      <th>2</th>\n",
       "      <td>0.003601</td>\n",
       "      <td>0.000490</td>\n",
       "      <td>0.001400</td>\n",
       "      <td>4.902129e-04</td>\n",
       "      <td>10</td>\n",
       "      <td>rbf</td>\n",
       "      <td>{'C': 10, 'kernel': 'rbf'}</td>\n",
       "      <td>0.8875</td>\n",
       "      <td>0.9375</td>\n",
       "      <td>0.9125</td>\n",
       "      <td>0.8250</td>\n",
       "      <td>0.8875</td>\n",
       "      <td>0.8900</td>\n",
       "      <td>0.037417</td>\n",
       "      <td>2</td>\n",
       "    </tr>\n",
       "    <tr>\n",
       "      <th>3</th>\n",
       "      <td>0.004802</td>\n",
       "      <td>0.000400</td>\n",
       "      <td>0.001001</td>\n",
       "      <td>5.560829e-07</td>\n",
       "      <td>10</td>\n",
       "      <td>linear</td>\n",
       "      <td>{'C': 10, 'kernel': 'linear'}</td>\n",
       "      <td>0.6875</td>\n",
       "      <td>0.9625</td>\n",
       "      <td>0.9000</td>\n",
       "      <td>0.7750</td>\n",
       "      <td>0.7125</td>\n",
       "      <td>0.8075</td>\n",
       "      <td>0.106829</td>\n",
       "      <td>4</td>\n",
       "    </tr>\n",
       "    <tr>\n",
       "      <th>4</th>\n",
       "      <td>0.004201</td>\n",
       "      <td>0.000400</td>\n",
       "      <td>0.001401</td>\n",
       "      <td>8.000374e-04</td>\n",
       "      <td>20</td>\n",
       "      <td>rbf</td>\n",
       "      <td>{'C': 20, 'kernel': 'rbf'}</td>\n",
       "      <td>0.8750</td>\n",
       "      <td>0.9375</td>\n",
       "      <td>0.9000</td>\n",
       "      <td>0.8250</td>\n",
       "      <td>0.8875</td>\n",
       "      <td>0.8850</td>\n",
       "      <td>0.036572</td>\n",
       "      <td>3</td>\n",
       "    </tr>\n",
       "    <tr>\n",
       "      <th>5</th>\n",
       "      <td>0.009403</td>\n",
       "      <td>0.002578</td>\n",
       "      <td>0.001401</td>\n",
       "      <td>4.902323e-04</td>\n",
       "      <td>20</td>\n",
       "      <td>linear</td>\n",
       "      <td>{'C': 20, 'kernel': 'linear'}</td>\n",
       "      <td>0.6875</td>\n",
       "      <td>0.9625</td>\n",
       "      <td>0.9000</td>\n",
       "      <td>0.7750</td>\n",
       "      <td>0.7125</td>\n",
       "      <td>0.8075</td>\n",
       "      <td>0.106829</td>\n",
       "      <td>4</td>\n",
       "    </tr>\n",
       "  </tbody>\n",
       "</table>\n",
       "</div>"
      ],
      "text/plain": [
       "   mean_fit_time  std_fit_time  mean_score_time  std_score_time param_C  \\\n",
       "0       0.003801      0.000749         0.002001    6.332397e-04       1   \n",
       "1       0.003401      0.000490         0.000800    4.000905e-04       1   \n",
       "2       0.003601      0.000490         0.001400    4.902129e-04      10   \n",
       "3       0.004802      0.000400         0.001001    5.560829e-07      10   \n",
       "4       0.004201      0.000400         0.001401    8.000374e-04      20   \n",
       "5       0.009403      0.002578         0.001401    4.902323e-04      20   \n",
       "\n",
       "  param_kernel                         params  split0_test_score  \\\n",
       "0          rbf      {'C': 1, 'kernel': 'rbf'}             0.9125   \n",
       "1       linear   {'C': 1, 'kernel': 'linear'}             0.6875   \n",
       "2          rbf     {'C': 10, 'kernel': 'rbf'}             0.8875   \n",
       "3       linear  {'C': 10, 'kernel': 'linear'}             0.6875   \n",
       "4          rbf     {'C': 20, 'kernel': 'rbf'}             0.8750   \n",
       "5       linear  {'C': 20, 'kernel': 'linear'}             0.6875   \n",
       "\n",
       "   split1_test_score  split2_test_score  split3_test_score  split4_test_score  \\\n",
       "0             0.9375             0.9125             0.8125             0.9250   \n",
       "1             0.9625             0.9000             0.7750             0.7125   \n",
       "2             0.9375             0.9125             0.8250             0.8875   \n",
       "3             0.9625             0.9000             0.7750             0.7125   \n",
       "4             0.9375             0.9000             0.8250             0.8875   \n",
       "5             0.9625             0.9000             0.7750             0.7125   \n",
       "\n",
       "   mean_test_score  std_test_score  rank_test_score  \n",
       "0           0.9000        0.044721                1  \n",
       "1           0.8075        0.106829                4  \n",
       "2           0.8900        0.037417                2  \n",
       "3           0.8075        0.106829                4  \n",
       "4           0.8850        0.036572                3  \n",
       "5           0.8075        0.106829                4  "
      ]
     },
     "execution_count": 17,
     "metadata": {},
     "output_type": "execute_result"
    }
   ],
   "source": [
    "# for svc\n",
    "model = GridSearchCV(SVC(gamma = 'auto'), {\n",
    "    'C': [1,10,20],\n",
    "    \"kernel\": ['rbf', 'linear'],\n",
    "    \n",
    "},cv=5, return_train_score = False)\n",
    "                     \n",
    "model.fit(X,y)\n",
    "pd.DataFrame(model.cv_results_)"
   ]
  },
  {
   "cell_type": "code",
   "execution_count": 18,
   "id": "532b2b34",
   "metadata": {},
   "outputs": [
    {
     "data": {
      "text/plain": [
       "({'C': 1, 'kernel': 'rbf'}, 0.9)"
      ]
     },
     "execution_count": 18,
     "metadata": {},
     "output_type": "execute_result"
    }
   ],
   "source": [
    "model.best_params_, model.best_score_"
   ]
  },
  {
   "cell_type": "markdown",
   "id": "b0cceead",
   "metadata": {},
   "source": [
    "## selecting best model and best parameter"
   ]
  },
  {
   "cell_type": "code",
   "execution_count": 19,
   "id": "62151034",
   "metadata": {},
   "outputs": [],
   "source": [
    "classifier = {\n",
    "    'SVC': { 'model' : SVC(gamma = 'auto'),\n",
    "           'parameter': { 'C':[1,5,8],\n",
    "                        'kernel': ['linear','rbf']}},\n",
    "    'Logmodel': { 'model' :LogisticRegression(),\n",
    "                'parameter': {'C': [1,2,5]}},\n",
    "    \n",
    "    \"RFc\" : { 'model': RandomForestClassifier(),\n",
    "            'parameter': {'n_estimators' : [5,10,15]}},\n",
    "    \n",
    "    \"KNN\" : {'model': KNeighborsClassifier(),\n",
    "            'parameter': {'n_neighbors': [2,3,5,10]}},\n",
    "    \n",
    "    'DTC': {'model': DecisionTreeClassifier(),\n",
    "           'parameter': {'criterion' :['gini', 'entropy']}}\n",
    "}"
   ]
  },
  {
   "cell_type": "code",
   "execution_count": 20,
   "id": "1bbc355e",
   "metadata": {},
   "outputs": [],
   "source": [
    "from sklearn.model_selection import GridSearchCV"
   ]
  },
  {
   "cell_type": "code",
   "execution_count": 21,
   "id": "1b1d36c0",
   "metadata": {},
   "outputs": [
    {
     "data": {
      "text/html": [
       "<div>\n",
       "<style scoped>\n",
       "    .dataframe tbody tr th:only-of-type {\n",
       "        vertical-align: middle;\n",
       "    }\n",
       "\n",
       "    .dataframe tbody tr th {\n",
       "        vertical-align: top;\n",
       "    }\n",
       "\n",
       "    .dataframe thead th {\n",
       "        text-align: right;\n",
       "    }\n",
       "</style>\n",
       "<table border=\"1\" class=\"dataframe\">\n",
       "  <thead>\n",
       "    <tr style=\"text-align: right;\">\n",
       "      <th></th>\n",
       "      <th>model</th>\n",
       "      <th>parameter</th>\n",
       "      <th>best result</th>\n",
       "    </tr>\n",
       "  </thead>\n",
       "  <tbody>\n",
       "    <tr>\n",
       "      <th>0</th>\n",
       "      <td>SVC</td>\n",
       "      <td>{'C': 1, 'kernel': 'rbf'}</td>\n",
       "      <td>0.9000</td>\n",
       "    </tr>\n",
       "    <tr>\n",
       "      <th>1</th>\n",
       "      <td>Logmodel</td>\n",
       "      <td>{'C': 1}</td>\n",
       "      <td>0.8200</td>\n",
       "    </tr>\n",
       "    <tr>\n",
       "      <th>2</th>\n",
       "      <td>RFc</td>\n",
       "      <td>{'n_estimators': 15}</td>\n",
       "      <td>0.8700</td>\n",
       "    </tr>\n",
       "    <tr>\n",
       "      <th>3</th>\n",
       "      <td>KNN</td>\n",
       "      <td>{'n_neighbors': 10}</td>\n",
       "      <td>0.9075</td>\n",
       "    </tr>\n",
       "    <tr>\n",
       "      <th>4</th>\n",
       "      <td>DTC</td>\n",
       "      <td>{'criterion': 'gini'}</td>\n",
       "      <td>0.8100</td>\n",
       "    </tr>\n",
       "  </tbody>\n",
       "</table>\n",
       "</div>"
      ],
      "text/plain": [
       "      model                  parameter  best result\n",
       "0       SVC  {'C': 1, 'kernel': 'rbf'}       0.9000\n",
       "1  Logmodel                   {'C': 1}       0.8200\n",
       "2       RFc       {'n_estimators': 15}       0.8700\n",
       "3       KNN        {'n_neighbors': 10}       0.9075\n",
       "4       DTC      {'criterion': 'gini'}       0.8100"
      ]
     },
     "execution_count": 21,
     "metadata": {},
     "output_type": "execute_result"
    }
   ],
   "source": [
    "score = []\n",
    "for model_name, param in classifier.items():\n",
    "    clf =GridSearchCV(param['model'], param['parameter'], cv = 5)\n",
    "    clf.fit(X,y)\n",
    "    score.append({\n",
    "    \"model\": model_name,\n",
    "    'parameter': clf.best_params_,\n",
    "    'best result': clf.best_score_ \n",
    "    })\n",
    "pd.DataFrame(score)    "
   ]
  },
  {
   "cell_type": "code",
   "execution_count": 22,
   "id": "7c084ad6",
   "metadata": {},
   "outputs": [
    {
     "data": {
      "text/plain": [
       "dict_keys(['ccp_alpha', 'class_weight', 'criterion', 'max_depth', 'max_features', 'max_leaf_nodes', 'min_impurity_decrease', 'min_samples_leaf', 'min_samples_split', 'min_weight_fraction_leaf', 'random_state', 'splitter'])"
      ]
     },
     "execution_count": 22,
     "metadata": {},
     "output_type": "execute_result"
    }
   ],
   "source": [
    "DecisionTreeClassifier().get_params().keys()"
   ]
  },
  {
   "cell_type": "markdown",
   "id": "00012913",
   "metadata": {},
   "source": [
    "# The best Parameters are SVC('C': 1, 'kernel': 'rbf) and KNN with K = 10. \n",
    "SVC will be better because the value of K is much"
   ]
  },
  {
   "cell_type": "code",
   "execution_count": null,
   "id": "15a41ec5",
   "metadata": {},
   "outputs": [],
   "source": []
  }
 ],
 "metadata": {
  "kernelspec": {
   "display_name": "Python 3",
   "language": "python",
   "name": "python3"
  },
  "language_info": {
   "codemirror_mode": {
    "name": "ipython",
    "version": 3
   },
   "file_extension": ".py",
   "mimetype": "text/x-python",
   "name": "python",
   "nbconvert_exporter": "python",
   "pygments_lexer": "ipython3",
   "version": "3.8.8"
  }
 },
 "nbformat": 4,
 "nbformat_minor": 5
}
